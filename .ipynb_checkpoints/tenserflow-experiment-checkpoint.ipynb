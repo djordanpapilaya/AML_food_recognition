{
 "cells": [
  {
   "cell_type": "code",
   "execution_count": 131,
   "metadata": {},
   "outputs": [],
   "source": [
    "# Import all libraries used for Tneserflow\n",
    "\n",
    "import matplotlib.pyplot as plt\n",
    "import numpy as np\n",
    "import os\n",
    "import PIL\n",
    "import tensorflow as tf\n",
    "\n",
    "from tensorflow import keras\n",
    "from tensorflow.keras import layers\n",
    "from tensorflow.keras.models import Sequential\n",
    "from tensorflow.keras.layers.experimental import preprocessing\n",
    "import pathlib\n",
    "import pandas as pd\n",
    "from PIL import Image"
   ]
  },
  {
   "cell_type": "code",
   "execution_count": 146,
   "metadata": {
    "scrolled": true
   },
   "outputs": [
    {
     "name": "stdout",
     "output_type": "stream",
     "text": [
      "Found 30612 files belonging to 1 classes.\n",
      "<TakeDataset shapes: ((None, 256, 256, 3), (None,)), types: (tf.float32, tf.int32)>\n"
     ]
    }
   ],
   "source": [
    "# Import data from folders and load into the system\n",
    "train_path = os.getcwd() +'/data/train_set'\n",
    "train_csv_path = os.getcwd() + '/train_labels.csv'\n",
    "\n",
    "train_csv = pd.read_csv(train_csv_path)\n",
    "train_csv.head()\n",
    "\n",
    "train_ds = tf.keras.preprocessing.image_dataset_from_directory(\n",
    "    train_path, labels='inferred', label_mode='int', class_names=None,\n",
    "    color_mode='rgb', batch_size=32, image_size=(256, 256), shuffle=True, seed=None,\n",
    "    validation_split=None, subset=None, interpolation='bilinear', follow_links=False\n",
    ")\n",
    "print(train_ds.take(1))\n"
   ]
  },
  {
   "cell_type": "code",
   "execution_count": 145,
   "metadata": {},
   "outputs": [
    {
     "name": "stdout",
     "output_type": "stream",
     "text": [
      "0            train_1.jpg\n",
      "1            train_2.jpg\n",
      "2            train_3.jpg\n",
      "3            train_4.jpg\n",
      "4            train_5.jpg\n",
      "              ...       \n",
      "30607    train_30608.jpg\n",
      "30608    train_30609.jpg\n",
      "30609    train_30610.jpg\n",
      "30610    train_30611.jpg\n",
      "30611    train_30612.jpg\n",
      "Name: img_name, Length: 30612, dtype: object\n",
      "[21, 29, 17, 50, 8, 42, 68, 10, 9, 39, 11, 44, 49, 5, 65, 61, 56, 43, 54, 40, 23, 64, 58, 33, 45, 3, 12, 46, 59, 77, 14, 13, 18, 69, 47, 63, 52, 66, 80, 30, 55, 53, 19, 67, 78, 24, 2, 25, 37, 57, 36, 6, 1, 72, 27, 60, 31, 48, 74, 51, 15, 26, 75, 62, 4, 22, 41, 79, 34, 73, 7, 71, 35, 38, 76, 28, 70, 16, 32, 20]\n"
     ]
    }
   ],
   "source": [
    "# Create list with classes\n",
    "\n",
    "print(train_csv['img_name'])\n",
    "\n",
    "classes = []\n",
    "\n",
    "for name in train_csv.label:    \n",
    "    if not name in classes:\n",
    "        classes.append(name)\n",
    "\n",
    "print(classes)"
   ]
  },
  {
   "cell_type": "code",
   "execution_count": null,
   "metadata": {},
   "outputs": [],
   "source": [
    "# Display 9 train images with their labels\n",
    "plt.figure(figsize=(10, 10))\n",
    "\n",
    "for images, labels in train_ds.take(1):\n",
    "    print(labels)\n",
    "    for i in range(9):\n",
    "        ax = plt.subplot(3, 3, i + 1)\n",
    "        plt.imshow(images[i].numpy().astype(\"uint8\"))\n",
    "        for labelI in range(len(train_csv)):\n",
    "            print(train_csv[1])\n",
    "        plt.title(train_csv.label[i])\n",
    "        plt.axis(\"off\")"
   ]
  },
  {
   "cell_type": "code",
   "execution_count": null,
   "metadata": {},
   "outputs": [],
   "source": [
    "\n"
   ]
  },
  {
   "cell_type": "code",
   "execution_count": null,
   "metadata": {},
   "outputs": [],
   "source": []
  }
 ],
 "metadata": {
  "kernelspec": {
   "display_name": "Python 3",
   "language": "python",
   "name": "python3"
  },
  "language_info": {
   "codemirror_mode": {
    "name": "ipython",
    "version": 3
   },
   "file_extension": ".py",
   "mimetype": "text/x-python",
   "name": "python",
   "nbconvert_exporter": "python",
   "pygments_lexer": "ipython3",
   "version": "3.8.3"
  }
 },
 "nbformat": 4,
 "nbformat_minor": 4
}
